{
 "cells": [
  {
   "cell_type": "code",
   "execution_count": 1,
   "id": "de02096f-4567-4ca2-b549-7c5659380b19",
   "metadata": {},
   "outputs": [],
   "source": [
    "import cv2"
   ]
  },
  {
   "cell_type": "code",
   "execution_count": 13,
   "id": "ea3ec323-9349-482b-a1b1-dc2996590214",
   "metadata": {},
   "outputs": [],
   "source": [
    "vid = cv2.VideoCapture(0)\n",
    "while True: \n",
    "    ret,frame = vid.read()\n",
    "    img_r = frame[:,:,-1]\n",
    "     img_g = frame[:,:,-2]\n",
    "    img_b = frame[:,:,-3]\n",
    "    img_gray = cv2.cvtColor(frame,cv2.COLOR_BGR2GRAY)\n",
    "    #img_yellow = cv2.subtract(img_gray,img_b)\n",
    "    #img_red = cv2.subtract(img_r,img_gray)\n",
    "    img_blue = cv2.subtract(img_b,img_gray)\n",
    "    cv2.imshow('frame',img_blue)\n",
    "    if cv2.waitKey(1)==ord('q'):\n",
    "        break\n",
    "vid.release()\n",
    "cv2.destroyAllWindows()\n",
    "    \n",
    "    "
   ]
  },
  {
   "cell_type": "code",
   "execution_count": null,
   "id": "a4a6efd8-3d40-42f9-b2d1-47621e723af6",
   "metadata": {},
   "outputs": [],
   "source": []
  }
 ],
 "metadata": {
  "kernelspec": {
   "display_name": "Python 3",
   "language": "python",
   "name": "python3"
  },
  "language_info": {
   "codemirror_mode": {
    "name": "ipython",
    "version": 3
   },
   "file_extension": ".py",
   "mimetype": "text/x-python",
   "name": "python",
   "nbconvert_exporter": "python",
   "pygments_lexer": "ipython3",
   "version": "3.8.8"
  }
 },
 "nbformat": 4,
 "nbformat_minor": 5
}
